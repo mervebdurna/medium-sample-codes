{
 "cells": [
  {
   "cell_type": "code",
   "execution_count": 1,
   "metadata": {},
   "outputs": [],
   "source": [
    "import pandas as pd\n",
    "import numpy as np\n",
    "from sklearn.datasets import load_wine\n",
    "from sklearn.model_selection import train_test_split,KFold,cross_val_score\n",
    "from sklearn.ensemble import RandomForestClassifier\n",
    "from sklearn.metrics import accuracy_score"
   ]
  },
  {
   "cell_type": "code",
   "execution_count": 2,
   "metadata": {},
   "outputs": [],
   "source": [
    "X, y = load_wine(return_X_y=True)"
   ]
  },
  {
   "cell_type": "code",
   "execution_count": 3,
   "metadata": {},
   "outputs": [
    {
     "name": "stdout",
     "output_type": "stream",
     "text": [
      "Accuracy score for random_state = 49 : 0.9722222222222222\n"
     ]
    }
   ],
   "source": [
    "# Train/Test Split : random_state = 49\n",
    "X_train, X_test, y_train, y_test = train_test_split(X, y, test_size=0.20, random_state=49)\n",
    "\n",
    "rf_model = RandomForestClassifier()\n",
    "rf_model.fit(X_train, y_train)\n",
    "\n",
    "y_pred = rf_model.predict(X_test)\n",
    "\n",
    "accuracy_score(y_test, y_pred)\n",
    "print('Accuracy score for random_state = 49 : ' + str(accuracy_score(y_test, y_pred)))"
   ]
  },
  {
   "cell_type": "code",
   "execution_count": 4,
   "metadata": {
    "scrolled": true
   },
   "outputs": [
    {
     "name": "stdout",
     "output_type": "stream",
     "text": [
      "Accuracy score for random_state = 1234 : 0.9444444444444444\n"
     ]
    }
   ],
   "source": [
    "# Train/Test Split  : random_state = 1234\n",
    "X_train, X_test, y_train, y_test = train_test_split(X, y, test_size=0.20, random_state=1234)\n",
    "\n",
    "rf_model = RandomForestClassifier()\n",
    "rf_model.fit(X_train, y_train)\n",
    "\n",
    "y_pred = rf_model.predict(X_test)\n",
    "\n",
    "accuracy_score(y_test, y_pred)\n",
    "print('Accuracy score for random_state = 1234 : ' + str(accuracy_score(y_test, y_pred)))"
   ]
  },
  {
   "cell_type": "code",
   "execution_count": 17,
   "metadata": {},
   "outputs": [
    {
     "name": "stdout",
     "output_type": "stream",
     "text": [
      "\n",
      " Fold 1 \n",
      "\n",
      " train ids :[  0   1   2   4   5   6   8   9  11  12  13  15  16  18  19  20  23  24\n",
      "  26  27  28  29  30  31  32  33  34  35  36  37  39  40  41  42  44  45\n",
      "  47  48  50  51  52  53  54  55  56  57  58  59  60  61  62  63  65  66\n",
      "  67  68  69  70  71  72  73  75  76  78  79  81  82  83  85  86  87  88\n",
      "  90  91  93  94  97  98  99 100 101 102 103 105 106 107 108 110 111 112\n",
      " 114 115 116 118 119 120 121 122 123 125 126 127 128 129 131 133 134 135\n",
      " 136 137 138 139 140 141 143 144 146 147 149 150 153 154 155 157 158 159\n",
      " 160 161 163 164 165 166 167 168 169 171 172 173 174 175 176 177] \n",
      "\n",
      " test ids :[  3   7  10  14  17  21  22  25  38  43  46  49  64  74  77  80  84  89\n",
      "  92  95  96 104 109 113 117 124 130 132 142 145 148 151 152 156 162 170]\n",
      "\n",
      " Accuracy score for Fold 1 --> 0.9722222222222222\n",
      "\n",
      "\n",
      " Fold 2 \n",
      "\n",
      " train ids :[  0   1   2   3   4   5   7   8   9  10  11  14  15  16  17  18  19  20\n",
      "  21  22  24  25  26  28  29  32  33  34  35  36  37  38  39  41  42  43\n",
      "  44  45  46  47  48  49  50  51  52  53  54  55  56  57  58  59  60  62\n",
      "  63  64  65  66  67  70  71  73  74  75  76  77  78  80  82  84  85  89\n",
      "  90  92  93  94  95  96  97  99 100 101 102 103 104 106 108 109 110 111\n",
      " 113 114 115 117 118 119 122 123 124 125 126 127 128 130 131 132 133 134\n",
      " 135 136 137 139 141 142 144 145 148 149 150 151 152 153 154 155 156 157\n",
      " 158 159 161 162 163 164 165 167 168 169 170 172 173 174 175 176] \n",
      "\n",
      " test ids :[  6  12  13  23  27  30  31  40  61  68  69  72  79  81  83  86  87  88\n",
      "  91  98 105 107 112 116 120 121 129 138 140 143 146 147 160 166 171 177]\n",
      "\n",
      " Accuracy score for Fold 2 --> 0.9444444444444444\n",
      "\n",
      "\n",
      " Fold 3 \n",
      "\n",
      " train ids :[  0   1   2   3   5   6   7   8   9  10  11  12  13  14  15  16  17  18\n",
      "  19  20  21  22  23  25  26  27  28  29  30  31  33  36  38  39  40  41\n",
      "  43  44  45  46  48  49  54  55  56  57  59  60  61  62  63  64  66  67\n",
      "  68  69  71  72  74  76  77  79  80  81  82  83  84  85  86  87  88  89\n",
      "  90  91  92  93  95  96  98  99 100 104 105 107 108 109 110 111 112 113\n",
      " 114 116 117 118 119 120 121 122 124 125 126 129 130 131 132 133 134 136\n",
      " 137 138 139 140 142 143 144 145 146 147 148 149 150 151 152 154 156 157\n",
      " 160 162 163 164 165 166 167 168 169 170 171 172 173 175 176 177] \n",
      "\n",
      " test ids :[  4  24  32  34  35  37  42  47  50  51  52  53  58  65  70  73  75  78\n",
      "  94  97 101 102 103 106 115 123 127 128 135 141 153 155 158 159 161 174]\n",
      "\n",
      " Accuracy score for Fold 3 --> 1.0\n",
      "\n",
      "\n",
      " Fold 4 \n",
      "\n",
      " train ids :[  1   3   4   6   7   9  10  12  13  14  15  17  18  19  21  22  23  24\n",
      "  25  27  29  30  31  32  33  34  35  37  38  39  40  42  43  44  45  46\n",
      "  47  49  50  51  52  53  55  56  57  58  59  61  64  65  67  68  69  70\n",
      "  72  73  74  75  76  77  78  79  80  81  83  84  85  86  87  88  89  90\n",
      "  91  92  94  95  96  97  98 101 102 103 104 105 106 107 109 111 112 113\n",
      " 115 116 117 120 121 122 123 124 125 126 127 128 129 130 131 132 134 135\n",
      " 138 139 140 141 142 143 144 145 146 147 148 149 151 152 153 155 156 158\n",
      " 159 160 161 162 164 165 166 167 169 170 171 172 173 174 175 176 177] \n",
      "\n",
      " test ids :[  0   2   5   8  11  16  20  26  28  36  41  48  54  60  62  63  66  71\n",
      "  82  93  99 100 108 110 114 118 119 133 136 137 150 154 157 163 168]\n",
      "\n",
      " Accuracy score for Fold 4 --> 1.0\n",
      "\n",
      "\n",
      " Fold 5 \n",
      "\n",
      " train ids :[  0   2   3   4   5   6   7   8  10  11  12  13  14  16  17  20  21  22\n",
      "  23  24  25  26  27  28  30  31  32  34  35  36  37  38  40  41  42  43\n",
      "  46  47  48  49  50  51  52  53  54  58  60  61  62  63  64  65  66  68\n",
      "  69  70  71  72  73  74  75  77  78  79  80  81  82  83  84  86  87  88\n",
      "  89  91  92  93  94  95  96  97  98  99 100 101 102 103 104 105 106 107\n",
      " 108 109 110 112 113 114 115 116 117 118 119 120 121 123 124 127 128 129\n",
      " 130 132 133 135 136 137 138 140 141 142 143 145 146 147 148 150 151 152\n",
      " 153 154 155 156 157 158 159 160 161 162 163 166 168 170 171 174 177] \n",
      "\n",
      " test ids :[  1   9  15  18  19  29  33  39  44  45  55  56  57  59  67  76  85  90\n",
      " 111 122 125 126 131 134 139 144 149 164 165 167 169 172 173 175 176]\n",
      "\n",
      " Accuracy score for Fold 5 --> 1.0\n",
      "\n",
      "[0.9722222222222222, 0.9444444444444444, 1.0, 1.0, 1.0]\n",
      "Avg. accuracy score :0.9833333333333332\n"
     ]
    }
   ],
   "source": [
    "# K-fold split\n",
    "X, y = load_wine(return_X_y=True)\n",
    "\n",
    "folds = KFold(n_splits = 5, shuffle = True, random_state = 35)\n",
    "scores = []\n",
    "\n",
    "for n_fold, (train_index, valid_index) in enumerate(folds.split(X,y)):\n",
    "    print('\\n Fold '+ str(n_fold+1 ) + \n",
    "          ' \\n\\n train ids :' +  str(train_index) +\n",
    "          ' \\n\\n test ids :' +  str(valid_index))\n",
    "    \n",
    "    X_train, X_valid = X[train_index], X[valid_index]\n",
    "    y_train, y_valid = y[train_index], y[valid_index]\n",
    "    \n",
    "    rf_model.fit(X_train, y_train)\n",
    "    y_pred = rf_model.predict(X_test)\n",
    "    \n",
    "    acc_score = accuracy_score(y_test, y_pred)\n",
    "    scores.append(acc_score)\n",
    "    print('\\n Accuracy score for Fold ' +str(n_fold+1) + ' --> ' + str(acc_score)+'\\n')\n",
    "\n",
    "    \n",
    "print(scores)\n",
    "print('Avg. accuracy score :' + str(np.mean(scores)))\n",
    "                  \n",
    "                  \n"
   ]
  },
  {
   "cell_type": "code",
   "execution_count": 22,
   "metadata": {},
   "outputs": [
    {
     "data": {
      "text/plain": [
       "0.9722222222222221"
      ]
     },
     "execution_count": 22,
     "metadata": {},
     "output_type": "execute_result"
    }
   ],
   "source": [
    "# Kfold Split with cross_val_score\n",
    "X, y = load_wine(return_X_y=True)\n",
    "scores = cross_val_score(rf_model, X, y, cv=10)\n",
    "scores.mean()"
   ]
  },
  {
   "cell_type": "code",
   "execution_count": 177,
   "metadata": {},
   "outputs": [],
   "source": []
  },
  {
   "cell_type": "code",
   "execution_count": 225,
   "metadata": {},
   "outputs": [],
   "source": [
    "?KFold"
   ]
  },
  {
   "cell_type": "code",
   "execution_count": null,
   "metadata": {},
   "outputs": [],
   "source": []
  }
 ],
 "metadata": {
  "kernelspec": {
   "display_name": "Python 3",
   "language": "python",
   "name": "python3"
  },
  "language_info": {
   "codemirror_mode": {
    "name": "ipython",
    "version": 3
   },
   "file_extension": ".py",
   "mimetype": "text/x-python",
   "name": "python",
   "nbconvert_exporter": "python",
   "pygments_lexer": "ipython3",
   "version": "3.7.6"
  }
 },
 "nbformat": 4,
 "nbformat_minor": 4
}
