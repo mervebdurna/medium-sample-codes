{
 "cells": [
  {
   "cell_type": "code",
   "execution_count": 10,
   "metadata": {},
   "outputs": [],
   "source": [
    "import pandas as pd\n",
    "import numpy as np\n",
    "from sklearn import model_selection\n",
    "from sklearn.model_selection import train_test_split\n",
    "from sklearn.datasets import load_wine\n",
    "#from sklearn.neighbors import KNeighborsClassifier\n",
    "from sklearn.ensemble import RandomForestClassifier\n",
    "from sklearn.metrics import mean_squared_error, accuracy_score\n",
    "from sklearn.model_selection import GridSearchCV, RandomizedSearchCV\n",
    "\n",
    "from warnings import filterwarnings\n",
    "filterwarnings('ignore')"
   ]
  },
  {
   "cell_type": "code",
   "execution_count": 4,
   "metadata": {},
   "outputs": [],
   "source": [
    "X, y = load_wine(return_X_y=True)"
   ]
  },
  {
   "cell_type": "code",
   "execution_count": 5,
   "metadata": {},
   "outputs": [],
   "source": [
    "# Train/Test Split \n",
    "X_train, X_test, y_train, y_test = train_test_split(X, y, test_size = 0.3, random_state = 28)"
   ]
  },
  {
   "cell_type": "code",
   "execution_count": 24,
   "metadata": {},
   "outputs": [
    {
     "name": "stdout",
     "output_type": "stream",
     "text": [
      "rf base model accuracy score = 0.9629629629629629\n"
     ]
    }
   ],
   "source": [
    "#Base Model rf\n",
    "rf_base_model = RandomForestClassifier()\n",
    "rf_base_model.fit(X_train,y_train)\n",
    "y_pred  = rf_base_model.predict(X_test)\n",
    "base_accuracy = accuracy_score(y_test,y_pred)\n",
    "print('rf base model accuracy score = {}'.format(base_accuracy))"
   ]
  },
  {
   "cell_type": "code",
   "execution_count": 8,
   "metadata": {},
   "outputs": [
    {
     "name": "stdout",
     "output_type": "stream",
     "text": [
      "[0.9444444444444444, 0.9629629629629629, 0.9629629629629629, 0.9814814814814815, 0.9629629629629629, 0.9629629629629629, 0.9629629629629629, 0.9444444444444444, 0.9629629629629629, 0.9629629629629629]\n"
     ]
    },
    {
     "data": {
      "image/png": "[encoded data removed]",
      "text/plain": [
       "<Figure size 432x288 with 1 Axes>"
      ]
     },
     "metadata": {
      "needs_background": "light"
     },
     "output_type": "display_data"
    }
   ],
   "source": [
    "# Manual Tuning RF\n",
    "acc_scores = []\n",
    "for n in range(1,11):\n",
    "    rf = RandomForestClassifier(min_samples_leaf=n).fit(X_train,y_train)\n",
    "    y_pred = rf.predict(X_test)\n",
    "    acc_scores.append(accuracy_score(y_test,y_pred))\n",
    "\n",
    "print(acc_scores)\n",
    "import matplotlib.pyplot as plt\n",
    "plt.plot(range(1,11), acc_scores)\n",
    "plt.xlabel('min_samples_leaf')\n",
    "plt.ylabel('Acuracy Scores')\n",
    "plt.show()"
   ]
  },
  {
   "cell_type": "code",
   "execution_count": 251,
   "metadata": {},
   "outputs": [
    {
     "name": "stdout",
     "output_type": "stream",
     "text": [
      "Fitting 5 folds for each of 1200 candidates, totalling 6000 fits\n"
     ]
    },
    {
     "name": "stderr",
     "output_type": "stream",
     "text": [
      "[Parallel(n_jobs=-1)]: Using backend LokyBackend with 4 concurrent workers.\n",
      "[Parallel(n_jobs=-1)]: Done  33 tasks      | elapsed:    6.7s\n",
      "[Parallel(n_jobs=-1)]: Done 154 tasks      | elapsed:   54.1s\n",
      "[Parallel(n_jobs=-1)]: Done 357 tasks      | elapsed:  2.0min\n",
      "[Parallel(n_jobs=-1)]: Done 640 tasks      | elapsed:  3.5min\n",
      "[Parallel(n_jobs=-1)]: Done 1005 tasks      | elapsed:  5.5min\n",
      "[Parallel(n_jobs=-1)]: Done 1450 tasks      | elapsed:  8.3min\n",
      "[Parallel(n_jobs=-1)]: Done 1977 tasks      | elapsed: 13.2min\n",
      "[Parallel(n_jobs=-1)]: Done 2584 tasks      | elapsed: 20.2min\n",
      "[Parallel(n_jobs=-1)]: Done 3273 tasks      | elapsed: 31.5min\n",
      "[Parallel(n_jobs=-1)]: Done 4042 tasks      | elapsed: 39.0min\n",
      "[Parallel(n_jobs=-1)]: Done 4893 tasks      | elapsed: 47.0min\n",
      "[Parallel(n_jobs=-1)]: Done 5824 tasks      | elapsed: 55.8min\n",
      "[Parallel(n_jobs=-1)]: Done 6000 out of 6000 | elapsed: 57.6min finished\n"
     ]
    },
    {
     "name": "stdout",
     "output_type": "stream",
     "text": [
      "rf gridcv model accuracy score = 0.992\n"
     ]
    }
   ],
   "source": [
    "# GridSearchCV\n",
    "rf_params = {'bootstrap': [True],\n",
    "    'max_depth': [80, 90, 100, 110],\n",
    "    'max_features': [2, 3],\n",
    "    'min_samples_leaf': range(1,11),\n",
    "    'min_samples_split': range(1,15,5),\n",
    "    'n_estimators': [100, 200, 300,500,1000]}\n",
    "rf = RandomForestClassifier()\n",
    "rf_gridcv_model = GridSearchCV(estimator=rf, param_grid=rf_params, cv=5, scoring='accuracy', n_jobs=-1, verbose=2).fit(X_train,y_train)\n",
    "rf_gridcv_model.best_params_\n",
    "print('rf gridcv model accuracy score = {}'.format(rf_gridcv_model.best_score_))"
   ]
  },
  {
   "cell_type": "code",
   "execution_count": 15,
   "metadata": {},
   "outputs": [
    {
     "name": "stdout",
     "output_type": "stream",
     "text": [
      "Fitting 5 folds for each of 200 candidates, totalling 1000 fits\n"
     ]
    },
    {
     "name": "stderr",
     "output_type": "stream",
     "text": [
      "[Parallel(n_jobs=-1)]: Using backend LokyBackend with 4 concurrent workers.\n",
      "[Parallel(n_jobs=-1)]: Done  33 tasks      | elapsed:   12.0s\n",
      "[Parallel(n_jobs=-1)]: Done 154 tasks      | elapsed:  1.0min\n",
      "[Parallel(n_jobs=-1)]: Done 357 tasks      | elapsed:  2.6min\n",
      "[Parallel(n_jobs=-1)]: Done 640 tasks      | elapsed:  4.4min\n",
      "[Parallel(n_jobs=-1)]: Done 1000 out of 1000 | elapsed:  6.5min finished\n"
     ]
    },
    {
     "name": "stdout",
     "output_type": "stream",
     "text": [
      "rf randomcv model accuracy score = 0.992\n"
     ]
    }
   ],
   "source": [
    "# RandomizeSearchCV\n",
    "# from sklearn.model_selection import RandomizedSearchCV\n",
    "rf_params = {'bootstrap': [True],\n",
    "    'max_depth': [80, 90, 100, 110],\n",
    "    'max_features': [2, 3],\n",
    "    'min_samples_leaf': range(1,11),\n",
    "    'min_samples_split': range(1,15,5),\n",
    "    'n_estimators': [100, 200, 300,500,1000]}\n",
    "rf = RandomForestClassifier()\n",
    "rf_randomcv_model = RandomizedSearchCV(estimator=rf, param_distributions=rf_params, n_iter=200, cv=5, scoring='accuracy', n_jobs=-1, verbose=2).fit(X_train,y_train)\n",
    "rf_randomcv_model.best_params_\n",
    "print('rf randomcv model accuracy score = {}'.format(rf_randomcv_model.best_score_))\n"
   ]
  },
  {
   "cell_type": "code",
   "execution_count": 19,
   "metadata": {},
   "outputs": [
    {
     "name": "stdout",
     "output_type": "stream",
     "text": [
      "Fitting 5 folds for each of 10 candidates, totalling 50 fits\n"
     ]
    },
    {
     "name": "stderr",
     "output_type": "stream",
     "text": [
      "[Parallel(n_jobs=-1)]: Using backend LokyBackend with 4 concurrent workers.\n",
      "[Parallel(n_jobs=-1)]: Done  33 tasks      | elapsed:    6.5s\n",
      "[Parallel(n_jobs=-1)]: Done  50 out of  50 | elapsed:   11.3s finished\n"
     ]
    },
    {
     "name": "stdout",
     "output_type": "stream",
     "text": [
      "rf randomcv model accuracy score = 0.992\n"
     ]
    }
   ],
   "source": [
    "# RandomizeSearchCV\n",
    "# from sklearn.model_selection import RandomizedSearchCV\n",
    "rf_params = {'bootstrap': [True],\n",
    "    'max_depth': [80, 90, 100, 110],\n",
    "    'max_features': [2, 3],\n",
    "    'min_samples_leaf': range(1,11),\n",
    "    'min_samples_split': range(1,15,5),\n",
    "    'n_estimators': [100, 200, 300,500,1000]}\n",
    "rf = RandomForestClassifier()\n",
    "rf_randomcv_model = RandomizedSearchCV(estimator=rf, param_distributions=rf_params, n_iter=10, cv=5, scoring='accuracy', n_jobs=-1, verbose=2).fit(X_train,y_train)\n",
    "rf_randomcv_model.best_params_\n",
    "print('rf randomcv model accuracy score = {}'.format(rf_randomcv_model.best_score_))\n"
   ]
  },
  {
   "cell_type": "code",
   "execution_count": null,
   "metadata": {},
   "outputs": [],
   "source": []
  }
 ],
 "metadata": {
  "kernelspec": {
   "display_name": "Python 3",
   "language": "python",
   "name": "python3"
  },
  "language_info": {
   "codemirror_mode": {
    "name": "ipython",
    "version": 3
   },
   "file_extension": ".py",
   "mimetype": "text/x-python",
   "name": "python",
   "nbconvert_exporter": "python",
   "pygments_lexer": "ipython3",
   "version": "3.7.6"
  }
 },
 "nbformat": 4,
 "nbformat_minor": 4
}
